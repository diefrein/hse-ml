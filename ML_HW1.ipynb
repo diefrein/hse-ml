{
  "cells": [
    {
      "cell_type": "markdown",
      "metadata": {
        "id": "view-in-github",
        "colab_type": "text"
      },
      "source": [
        "<a href=\"https://colab.research.google.com/github/diefrein/hse-ml/blob/develop/ML_HW1.ipynb\" target=\"_parent\"><img src=\"https://colab.research.google.com/assets/colab-badge.svg\" alt=\"Open In Colab\"/></a>"
      ]
    },
    {
      "cell_type": "code",
      "execution_count": null,
      "metadata": {
        "colab": {
          "base_uri": "https://localhost:8080/"
        },
        "id": "fm7VBAS8J7hV",
        "outputId": "0833b260-e72a-4821-baca-78e0d1654f21"
      },
      "outputs": [
        {
          "output_type": "stream",
          "name": "stdout",
          "text": [
            "Train data shape: (6999, 13)\n",
            "Test data shape:  (1000, 13)\n"
          ]
        }
      ],
      "source": [
        "import pandas as pd\n",
        "\n",
        "df_train = pd.read_csv('https://raw.githubusercontent.com/Murcha1990/MLDS_ML_2022/main/Hometasks/HT1/cars_train.csv')\n",
        "df_test = pd.read_csv('https://raw.githubusercontent.com/Murcha1990/MLDS_ML_2022/main/Hometasks/HT1/cars_test.csv')\n",
        "\n",
        "print(\"Train data shape:\", df_train.shape)\n",
        "print(\"Test data shape: \", df_test.shape)"
      ]
    },
    {
      "cell_type": "code",
      "execution_count": null,
      "metadata": {
        "colab": {
          "base_uri": "https://localhost:8080/"
        },
        "id": "T3u9XNYcKXep",
        "outputId": "b8590e13-74c5-49de-c2d6-86a671a0faf0"
      },
      "outputs": [
        {
          "output_type": "stream",
          "name": "stdout",
          "text": [
            "10 случайных строк:\n",
            "                                  name  year  selling_price  km_driven  \\\n",
            "5362              Ford Figo Diesel ZXI  2011         204999     147000   \n",
            "4886               Maruti Alto K10 LXI  2014         240000      90000   \n",
            "4289                    Maruti Zen LXI  2004          70000     150000   \n",
            "6438              Maruti Ciaz 1.3 Zeta  2018         889000      20000   \n",
            "566              Tata Safari Storme EX  2015         503000     110000   \n",
            "2006          Maruti Wagon R LXI BS IV  2016         350000      70000   \n",
            "3593               Honda City i VTEC V  2017         860000      28000   \n",
            "2182  Toyota Etios Diesel TRD Sportivo  2012         278000     120000   \n",
            "3478                   Hyundai i10 Era  2011         165000      97000   \n",
            "626      Datsun GO Anniversary Edition  2017         385000      30000   \n",
            "\n",
            "        fuel seller_type transmission         owner     mileage   engine  \\\n",
            "5362  Diesel  Individual       Manual   First Owner   20.0 kmpl  1399 CC   \n",
            "4886  Petrol  Individual       Manual  Second Owner  23.95 kmpl   998 CC   \n",
            "4289  Petrol  Individual       Manual   First Owner   17.3 kmpl   993 CC   \n",
            "6438  Diesel  Individual       Manual   First Owner  28.09 kmpl  1248 CC   \n",
            "566   Diesel  Individual       Manual   First Owner   14.1 kmpl  2179 CC   \n",
            "2006  Petrol  Individual       Manual   First Owner  20.51 kmpl   998 CC   \n",
            "3593  Petrol  Individual       Manual   First Owner   17.8 kmpl  1497 CC   \n",
            "2182  Diesel  Individual       Manual  Second Owner  23.59 kmpl  1364 CC   \n",
            "3478  Petrol  Individual       Manual   Third Owner  19.81 kmpl  1086 CC   \n",
            "626   Petrol  Individual       Manual   First Owner  20.63 kmpl  1198 CC   \n",
            "\n",
            "       max_power               torque  seats  \n",
            "5362      68 bhp       160Nm@ 2000rpm    5.0  \n",
            "4886   67.05 bhp        90Nm@ 3500rpm    5.0  \n",
            "4289      60 bhp        78Nm@ 4500rpm    5.0  \n",
            "6438    88.5 bhp       200Nm@ 1750rpm    5.0  \n",
            "566   147.94 bhp  320Nm@ 1500-3000rpm    7.0  \n",
            "2006   67.04 bhp        90Nm@ 3500rpm    5.0  \n",
            "3593   117.3 bhp       145Nm@ 4600rpm    5.0  \n",
            "2182    67.1 bhp  170Nm@ 1800-2400rpm    5.0  \n",
            "3478   68.05 bhp     99.04Nm@ 4500rpm    5.0  \n",
            "626    67.06 bhp       104Nm@ 4000rpm    5.0  \n",
            "первые 5:\n",
            "                                     name  year  selling_price  km_driven  \\\n",
            "0                  Mahindra Xylo E4 BS IV  2010         229999     168000   \n",
            "1              Tata Nexon 1.5 Revotorq XE  2017         665000      25000   \n",
            "2                    Honda Civic 1.8 S AT  2007         175000     218463   \n",
            "3                    Honda City i DTEC VX  2015         635000     173000   \n",
            "4  Tata Indica Vista Aura 1.2 Safire BSIV  2011         130000      70000   \n",
            "\n",
            "     fuel seller_type transmission         owner    mileage   engine  \\\n",
            "0  Diesel  Individual       Manual   First Owner  14.0 kmpl  2498 CC   \n",
            "1  Diesel  Individual       Manual   First Owner  21.5 kmpl  1497 CC   \n",
            "2  Petrol  Individual    Automatic   First Owner  12.9 kmpl  1799 CC   \n",
            "3  Diesel  Individual       Manual   First Owner  25.1 kmpl  1498 CC   \n",
            "4  Petrol  Individual       Manual  Second Owner  16.5 kmpl  1172 CC   \n",
            "\n",
            "   max_power                   torque  seats  \n",
            "0    112 bhp  260 Nm at 1800-2200 rpm    7.0  \n",
            "1  108.5 bhp      260Nm@ 1500-2750rpm    5.0  \n",
            "2    130 bhp           172Nm@ 4300rpm    5.0  \n",
            "3   98.6 bhp           200Nm@ 1750rpm    5.0  \n",
            "4     65 bhp     96  Nm at 3000  rpm     5.0  \n",
            "последние 5:\n",
            "                                 name  year  selling_price  km_driven    fuel  \\\n",
            "995            Hyundai i10 Magna 1.1L  2008         250000     100000  Petrol   \n",
            "996  Hyundai i20 2015-2017 Sportz 1.2  2017         440000      50000  Petrol   \n",
            "997            Hyundai i20 Era Diesel  2009         340000      40000  Diesel   \n",
            "998                  Hyundai i10 Asta  2012         350000      25000  Petrol   \n",
            "999              Honda City i DTec SV  2016         700000     110000  Diesel   \n",
            "\n",
            "    seller_type transmission         owner     mileage   engine  max_power  \\\n",
            "995  Individual       Manual  Second Owner  19.81 kmpl  1086 CC  68.05 bhp   \n",
            "996  Individual       Manual  Second Owner   18.6 kmpl  1197 CC  81.83 bhp   \n",
            "997  Individual       Manual   First Owner   23.0 kmpl  1396 CC     90 bhp   \n",
            "998  Individual       Manual   First Owner  20.36 kmpl  1197 CC   78.9 bhp   \n",
            "999  Individual       Manual   First Owner   26.0 kmpl  1498 CC   98.6 bhp   \n",
            "\n",
            "                       torque  seats  \n",
            "995          99.04Nm@ 4500rpm    5.0  \n",
            "996          114.7Nm@ 4000rpm    5.0  \n",
            "997  22.4 kgm at 1750-2750rpm    5.0  \n",
            "998          111.8Nm@ 4000rpm    5.0  \n",
            "999            200Nm@ 1750rpm    5.0  \n",
            "названия колонок, для которых есть пропущенные значения:\n",
            "['mileage', 'engine', 'max_power', 'torque', 'seats']\n",
            "Число дубликатов: 985\n"
          ]
        },
        {
          "output_type": "stream",
          "name": "stderr",
          "text": [
            "<ipython-input-203-ab90d7eef374>:30: SettingWithCopyWarning: \n",
            "A value is trying to be set on a copy of a slice from a DataFrame.\n",
            "Try using .loc[row_indexer,col_indexer] = value instead\n",
            "\n",
            "See the caveats in the documentation: https://pandas.pydata.org/pandas-docs/stable/user_guide/indexing.html#returning-a-view-versus-a-copy\n",
            "  df_train['mileage'] = df_train['mileage'].replace(r'\\D+', '', regex=True).astype('float')\n",
            "<ipython-input-203-ab90d7eef374>:31: SettingWithCopyWarning: \n",
            "A value is trying to be set on a copy of a slice from a DataFrame.\n",
            "Try using .loc[row_indexer,col_indexer] = value instead\n",
            "\n",
            "See the caveats in the documentation: https://pandas.pydata.org/pandas-docs/stable/user_guide/indexing.html#returning-a-view-versus-a-copy\n",
            "  df_train['engine'] = df_train['engine'].replace(r'\\D+', '', regex=True).astype('float')\n",
            "<ipython-input-203-ab90d7eef374>:34: SettingWithCopyWarning: \n",
            "A value is trying to be set on a copy of a slice from a DataFrame.\n",
            "Try using .loc[row_indexer,col_indexer] = value instead\n",
            "\n",
            "See the caveats in the documentation: https://pandas.pydata.org/pandas-docs/stable/user_guide/indexing.html#returning-a-view-versus-a-copy\n",
            "  df_train['max_power'] = df_train['max_power'].replace(r'\\D+', '', regex=True)\n",
            "<ipython-input-203-ab90d7eef374>:35: SettingWithCopyWarning: \n",
            "A value is trying to be set on a copy of a slice from a DataFrame.\n",
            "Try using .loc[row_indexer,col_indexer] = value instead\n",
            "\n",
            "See the caveats in the documentation: https://pandas.pydata.org/pandas-docs/stable/user_guide/indexing.html#returning-a-view-versus-a-copy\n",
            "  df_train['max_power'] = df_train['max_power'].replace('', None).astype('float')\n"
          ]
        }
      ],
      "source": [
        "# Задание 1\n",
        "\n",
        "# Отобразите 10 случайных строк тренировочного датасета (0.15 балла)\n",
        "random_rows = df_train.sample(10)\n",
        "print(\"10 случайных строк:\")\n",
        "print(random_rows)\n",
        "\n",
        "# Отобразите первые 5 и последние 5 объектов тестового датасета (0.1 балла)\n",
        "print(\"первые 5:\")\n",
        "print(df_test.head(5))\n",
        "print(\"последние 5:\")\n",
        "print(df_test.tail(5))\n",
        "\n",
        "# Посмотрите, есть ли в датасете пропуски. Запишите/выведите названия колонок, для которых есть пропущенные значения (0.1 балла)\n",
        "print(\"названия колонок, для которых есть пропущенные значения:\")\n",
        "print(df_train.columns[df_train.isna().any()].tolist())\n",
        "\n",
        "# Посмотрите, есть ли в данных явные дубликаты (0.05 балла)\n",
        "print(\"Число дубликатов:\", df_train.duplicated().sum())\n",
        "df_train = df_train.drop_duplicates()\n",
        "df_test = df_test.drop_duplicates()\n",
        "\n",
        "# Постройте дашборд, используя ydata-profilling (0.15 балла)\n",
        "#!pip install ydata-profiling\n",
        "#from ydata_profiling import ProfileReport\n",
        "#profile = ProfileReport(df_train, title=\"Profiling Report\")\n",
        "#profile\n",
        "\n",
        "# Задание 3 (0.25 балла)\n",
        "df_train['mileage'] = df_train['mileage'].replace(r'\\D+', '', regex=True).astype('float')\n",
        "df_train['engine'] = df_train['engine'].replace(r'\\D+', '', regex=True).astype('float')\n",
        "\n",
        "#df_train = df_train[df_train['max_power'].replace(r'\\D+', '', regex=True) != '']\n",
        "df_train['max_power'] = df_train['max_power'].replace(r'\\D+', '', regex=True)\n",
        "df_train['max_power'] = df_train['max_power'].replace('', None).astype('float')\n",
        "df_train = df_train.drop('torque', axis=1)\n",
        "\n",
        "df_test['mileage'] = df_test['mileage'].replace(r'\\D+', '', regex=True).astype('float')\n",
        "df_test['engine'] = df_test['engine'].replace(r'\\D+', '', regex=True).astype('float')\n",
        "\n",
        "#df_test = df_test[df_test['max_power'].replace(r'\\D+', '', regex=True) != '']\n",
        "df_test['max_power'] = df_test['max_power'].replace(r'\\D+', '', regex=True)\n",
        "df_test['max_power'] = df_test['max_power'].replace('', None).astype('float')\n",
        "df_test = df_test.drop('torque', axis=1)"
      ]
    },
    {
      "cell_type": "code",
      "source": [
        "# Задание 3 (0.25 балла)\n",
        "\n",
        "df_train['mileage'].fillna(value=df_train['mileage'].median(), inplace=True)\n",
        "df_train['engine'].fillna(value=df_train['engine'].median(), inplace=True)\n",
        "df_train['max_power'].fillna(value=df_train['max_power'].median(), inplace=True)\n",
        "df_train['seats'].fillna(value=df_train['seats'].median(), inplace=True)\n",
        "\n",
        "print(\"названия колонок, для которых есть пропущенные значения (после обработки):\")\n",
        "print(df_train.columns[df_train.isna().any()].tolist())\n",
        "\n",
        "df_test['mileage'].fillna(value=df_test['mileage'].median(), inplace=True)\n",
        "df_test['engine'].fillna(value=df_test['engine'].median(), inplace=True)\n",
        "df_test['max_power'].fillna(value=df_test['max_power'].median(), inplace=True)\n",
        "df_test['seats'].fillna(value=df_test['seats'].median(), inplace=True)\n",
        "\n",
        "print(\"названия колонок, для которых есть пропущенные значения (после обработки):\")\n",
        "print(df_test.columns[df_test.isna().any()].tolist())"
      ],
      "metadata": {
        "colab": {
          "base_uri": "https://localhost:8080/"
        },
        "id": "Ya6MzOtinPeE",
        "outputId": "69674155-d4f1-4016-8270-1b29d62e79ce"
      },
      "execution_count": null,
      "outputs": [
        {
          "output_type": "stream",
          "name": "stdout",
          "text": [
            "названия колонок, для которых есть пропущенные значения (после обработки):\n",
            "[]\n",
            "названия колонок, для которых есть пропущенные значения (после обработки):\n",
            "[]\n"
          ]
        },
        {
          "output_type": "stream",
          "name": "stderr",
          "text": [
            "<ipython-input-204-8ffd41c547cd>:3: FutureWarning: A value is trying to be set on a copy of a DataFrame or Series through chained assignment using an inplace method.\n",
            "The behavior will change in pandas 3.0. This inplace method will never work because the intermediate object on which we are setting values always behaves as a copy.\n",
            "\n",
            "For example, when doing 'df[col].method(value, inplace=True)', try using 'df.method({col: value}, inplace=True)' or df[col] = df[col].method(value) instead, to perform the operation inplace on the original object.\n",
            "\n",
            "\n",
            "  df_train['mileage'].fillna(value=df_train['mileage'].median(), inplace=True)\n",
            "<ipython-input-204-8ffd41c547cd>:4: FutureWarning: A value is trying to be set on a copy of a DataFrame or Series through chained assignment using an inplace method.\n",
            "The behavior will change in pandas 3.0. This inplace method will never work because the intermediate object on which we are setting values always behaves as a copy.\n",
            "\n",
            "For example, when doing 'df[col].method(value, inplace=True)', try using 'df.method({col: value}, inplace=True)' or df[col] = df[col].method(value) instead, to perform the operation inplace on the original object.\n",
            "\n",
            "\n",
            "  df_train['engine'].fillna(value=df_train['engine'].median(), inplace=True)\n",
            "<ipython-input-204-8ffd41c547cd>:5: FutureWarning: A value is trying to be set on a copy of a DataFrame or Series through chained assignment using an inplace method.\n",
            "The behavior will change in pandas 3.0. This inplace method will never work because the intermediate object on which we are setting values always behaves as a copy.\n",
            "\n",
            "For example, when doing 'df[col].method(value, inplace=True)', try using 'df.method({col: value}, inplace=True)' or df[col] = df[col].method(value) instead, to perform the operation inplace on the original object.\n",
            "\n",
            "\n",
            "  df_train['max_power'].fillna(value=df_train['max_power'].median(), inplace=True)\n",
            "<ipython-input-204-8ffd41c547cd>:6: FutureWarning: A value is trying to be set on a copy of a DataFrame or Series through chained assignment using an inplace method.\n",
            "The behavior will change in pandas 3.0. This inplace method will never work because the intermediate object on which we are setting values always behaves as a copy.\n",
            "\n",
            "For example, when doing 'df[col].method(value, inplace=True)', try using 'df.method({col: value}, inplace=True)' or df[col] = df[col].method(value) instead, to perform the operation inplace on the original object.\n",
            "\n",
            "\n",
            "  df_train['seats'].fillna(value=df_train['seats'].median(), inplace=True)\n",
            "<ipython-input-204-8ffd41c547cd>:11: FutureWarning: A value is trying to be set on a copy of a DataFrame or Series through chained assignment using an inplace method.\n",
            "The behavior will change in pandas 3.0. This inplace method will never work because the intermediate object on which we are setting values always behaves as a copy.\n",
            "\n",
            "For example, when doing 'df[col].method(value, inplace=True)', try using 'df.method({col: value}, inplace=True)' or df[col] = df[col].method(value) instead, to perform the operation inplace on the original object.\n",
            "\n",
            "\n",
            "  df_test['mileage'].fillna(value=df_test['mileage'].median(), inplace=True)\n",
            "<ipython-input-204-8ffd41c547cd>:12: FutureWarning: A value is trying to be set on a copy of a DataFrame or Series through chained assignment using an inplace method.\n",
            "The behavior will change in pandas 3.0. This inplace method will never work because the intermediate object on which we are setting values always behaves as a copy.\n",
            "\n",
            "For example, when doing 'df[col].method(value, inplace=True)', try using 'df.method({col: value}, inplace=True)' or df[col] = df[col].method(value) instead, to perform the operation inplace on the original object.\n",
            "\n",
            "\n",
            "  df_test['engine'].fillna(value=df_test['engine'].median(), inplace=True)\n",
            "<ipython-input-204-8ffd41c547cd>:13: FutureWarning: A value is trying to be set on a copy of a DataFrame or Series through chained assignment using an inplace method.\n",
            "The behavior will change in pandas 3.0. This inplace method will never work because the intermediate object on which we are setting values always behaves as a copy.\n",
            "\n",
            "For example, when doing 'df[col].method(value, inplace=True)', try using 'df.method({col: value}, inplace=True)' or df[col] = df[col].method(value) instead, to perform the operation inplace on the original object.\n",
            "\n",
            "\n",
            "  df_test['max_power'].fillna(value=df_test['max_power'].median(), inplace=True)\n",
            "<ipython-input-204-8ffd41c547cd>:14: FutureWarning: A value is trying to be set on a copy of a DataFrame or Series through chained assignment using an inplace method.\n",
            "The behavior will change in pandas 3.0. This inplace method will never work because the intermediate object on which we are setting values always behaves as a copy.\n",
            "\n",
            "For example, when doing 'df[col].method(value, inplace=True)', try using 'df.method({col: value}, inplace=True)' or df[col] = df[col].method(value) instead, to perform the operation inplace on the original object.\n",
            "\n",
            "\n",
            "  df_test['seats'].fillna(value=df_test['seats'].median(), inplace=True)\n"
          ]
        }
      ]
    },
    {
      "cell_type": "code",
      "source": [
        "# Задание 2 (0.5 балла)\n",
        "\n",
        "# Посмотрите, есть ли в трейне объекты с одинаковым признаковым описанием (целевую переменную следует исключить). Если есть, то сколько? (0.1 балла)\n",
        "object_columns = ['name', 'year', 'km_driven', 'fuel', 'seller_type',\n",
        "       'transmission', 'owner', 'mileage', 'engine', 'max_power', 'seats']\n",
        "print(\"Количество дубликатов:\\n\", df_train.duplicated(subset=object_columns).sum())\n",
        "\n",
        "# Отобразите такие объекты (0.15 балла)\n",
        "print(\"Дубликаты:\\n\", df_train[df_train.duplicated(subset=object_columns) == True])\n",
        "\n",
        "# Удалите повторяющиеся строки. Если при одинаковом признаковом описании цены на автомобили отличаются, то оставьте первую строку по этому автомобилю (0.15 балла)\n",
        "df_train = df_train.drop_duplicates(subset=object_columns, keep='first')\n",
        "\n",
        "# Обновите индексы строк таким образом, чтобы они шли от 0 без пропусков (0.1 балла)\n",
        "df_train = df_train.reset_index(drop=True)"
      ],
      "metadata": {
        "colab": {
          "base_uri": "https://localhost:8080/"
        },
        "id": "8lqUk0ynoAbX",
        "outputId": "fbdd7d55-4b36-468a-f7c9-b15755ee5abc"
      },
      "execution_count": null,
      "outputs": [
        {
          "output_type": "stream",
          "name": "stdout",
          "text": [
            "Количество дубликатов:\n",
            " 174\n",
            "Дубликаты:\n",
            "                                           name  year  selling_price  \\\n",
            "266                     Maruti Swift Dzire VXI  2014         400000   \n",
            "352                 BMW X4 M Sport X xDrive20d  2019        5400000   \n",
            "421                        Maruti Alto 800 VXI  2016         270000   \n",
            "722                   Chevrolet Beat Diesel LT  2012         200000   \n",
            "888                            Maruti Alto LXI  2005          80000   \n",
            "...                                        ...   ...            ...   \n",
            "5850                    Datsun RediGO T Option  2016         200000   \n",
            "5909                       Maruti Alto 800 LXI  2017         270000   \n",
            "5924                          Maruti Swift VDI  2012         416000   \n",
            "5965                    Chevrolet Spark 1.0 LS  2010         140000   \n",
            "6002  Ford Freestyle Titanium Plus Diesel BSIV  2018         746000   \n",
            "\n",
            "      km_driven    fuel seller_type transmission         owner  mileage  \\\n",
            "266       70000  Petrol  Individual       Manual  Second Owner    191.0   \n",
            "352        7500  Diesel      Dealer    Automatic   First Owner   1678.0   \n",
            "421       50000  Petrol  Individual       Manual   First Owner   2274.0   \n",
            "722       70000  Diesel  Individual       Manual  Second Owner   2544.0   \n",
            "888       40000  Petrol  Individual       Manual  Second Owner    197.0   \n",
            "...         ...     ...         ...          ...           ...      ...   \n",
            "5850      35000  Petrol  Individual       Manual   First Owner    227.0   \n",
            "5909      35000  Petrol  Individual       Manual   First Owner    247.0   \n",
            "5924      90000  Diesel  Individual       Manual  Second Owner    229.0   \n",
            "5965      60000  Petrol  Individual       Manual  Second Owner    180.0   \n",
            "6002      24000  Diesel  Individual       Manual   First Owner    244.0   \n",
            "\n",
            "      engine  max_power  seats  \n",
            "266     1197      858.0      5  \n",
            "352     1995      190.0      5  \n",
            "421      796      473.0      5  \n",
            "722      936      576.0      5  \n",
            "888      796      463.0      5  \n",
            "...      ...        ...    ...  \n",
            "5850     799     5364.0      5  \n",
            "5909     796      473.0      5  \n",
            "5924    1248       74.0      5  \n",
            "5965     995       62.0      5  \n",
            "6002    1498     9863.0      5  \n",
            "\n",
            "[174 rows x 12 columns]\n"
          ]
        }
      ]
    },
    {
      "cell_type": "code",
      "source": [
        "# Задание 4 (0.1 балла)\n",
        "# Теперь, когда не осталось пропусков, давайте преобразуем столбцы к более подходящим типам. А именно столбцы engnine и seats к приведем к int.\n",
        "\n",
        "df_train['engine'] = df_train['engine'].astype('int')\n",
        "df_train['seats'] = df_train['seats'].astype('int')\n",
        "\n",
        "df_test['engine'] = df_test['engine'].astype('int')\n",
        "df_test['seats'] = df_test['seats'].astype('int')"
      ],
      "metadata": {
        "id": "zAok9C7HpJ8H"
      },
      "execution_count": null,
      "outputs": []
    },
    {
      "cell_type": "code",
      "source": [
        "# Задание 5 (0.1 балла)\n",
        "\n",
        "# Посчитайте основные статистики по числовым столбцам для трейна и теста\n",
        "print(df_train.describe())\n",
        "print(df_test.describe())\n",
        "\n",
        "# Посчитайте основные статистики по категориальным столбцам для трейна и теста\n",
        "print(df_train.describe(include='object'))\n",
        "print(df_test.describe(include='object'))\n",
        "\n",
        "assert df_train.shape == (5840, 12)"
      ],
      "metadata": {
        "colab": {
          "base_uri": "https://localhost:8080/"
        },
        "id": "HH0BURZkpeG9",
        "outputId": "8e54b718-0371-4509-923b-434a0c1cda6b"
      },
      "execution_count": null,
      "outputs": [
        {
          "output_type": "stream",
          "name": "stdout",
          "text": [
            "              year  selling_price     km_driven      mileage       engine  \\\n",
            "count  5840.000000   5.840000e+03  5.840000e+03  5840.000000  5840.000000   \n",
            "mean   2013.428425   5.229601e+05  7.395224e+04   919.751199  1429.448973   \n",
            "std       4.095622   5.354320e+05  6.007114e+04   917.983326   485.662834   \n",
            "min    1983.000000   2.999900e+04  1.000000e+00     0.000000   624.000000   \n",
            "25%    2011.000000   2.500000e+05  3.900000e+04   186.000000  1197.000000   \n",
            "50%    2014.000000   4.050000e+05  7.000000e+04   240.000000  1248.000000   \n",
            "75%    2017.000000   6.400000e+05  1.000000e+05  1909.750000  1498.000000   \n",
            "max    2020.000000   1.000000e+07  2.360457e+06  3344.000000  3604.000000   \n",
            "\n",
            "           max_power        seats  \n",
            "count    5840.000000  5840.000000  \n",
            "mean     2484.572089     5.426712  \n",
            "std      4868.691347     0.982344  \n",
            "min         0.000000     2.000000  \n",
            "25%        99.000000     5.000000  \n",
            "50%       671.000000     5.000000  \n",
            "75%      1381.000000     5.000000  \n",
            "max    108495.000000    14.000000  \n",
            "              year  selling_price      km_driven      mileage       engine  \\\n",
            "count   938.000000   9.380000e+02     938.000000   938.000000   938.000000   \n",
            "mean   2013.522388   5.496642e+05   72733.968017   896.547974  1434.134328   \n",
            "std       4.038242   5.967333e+05   48749.355940   912.855895   514.623041   \n",
            "min    1995.000000   3.100000e+04    1303.000000     0.000000   624.000000   \n",
            "25%    2011.000000   2.500000e+05   38862.750000   185.000000  1197.000000   \n",
            "50%    2014.000000   4.200000e+05   65000.000000   234.000000  1248.000000   \n",
            "75%    2017.000000   6.500000e+05  100000.000000  1909.000000  1498.000000   \n",
            "max    2020.000000   6.000000e+06  375000.000000  3226.000000  3604.000000   \n",
            "\n",
            "          max_power       seats  \n",
            "count    938.000000  938.000000  \n",
            "mean    2432.413646    5.408316  \n",
            "std     3765.121215    0.923207  \n",
            "min       35.000000    4.000000  \n",
            "25%      100.000000    5.000000  \n",
            "50%      671.000000    5.000000  \n",
            "75%     1477.250000    5.000000  \n",
            "max    25479.000000    9.000000  \n",
            "                          name    fuel seller_type transmission        owner\n",
            "count                     5840    5840        5840         5840         5840\n",
            "unique                    1924       4           3            2            5\n",
            "top     Maruti Swift Dzire VDI  Diesel  Individual       Manual  First Owner\n",
            "freq                        91    3177        5223         5336         3603\n",
            "                       name    fuel seller_type transmission        owner\n",
            "count                   938     938         938          938          938\n",
            "unique                  621       4           3            2            5\n",
            "top     Maruti Alto 800 LXI  Diesel  Individual       Manual  First Owner\n",
            "freq                     15     502         820          845          566\n"
          ]
        }
      ]
    }
  ],
  "metadata": {
    "colab": {
      "provenance": [],
      "authorship_tag": "ABX9TyPO3Z9JlerXFGj4BrlEp/ow",
      "include_colab_link": true
    },
    "kernelspec": {
      "display_name": "Python 3",
      "name": "python3"
    },
    "language_info": {
      "name": "python"
    }
  },
  "nbformat": 4,
  "nbformat_minor": 0
}